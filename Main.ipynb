{
 "cells": [
  {
   "cell_type": "code",
   "execution_count": 1,
   "id": "designing-cradle",
   "metadata": {},
   "outputs": [],
   "source": [
    "import cv2\n",
    "import numpy as np\n",
    "import pandas as pd"
   ]
  },
  {
   "cell_type": "code",
   "execution_count": 2,
   "id": "painted-somewhere",
   "metadata": {},
   "outputs": [],
   "source": [
    "def get_full_parking_lots(points,car_locations):\n",
    "    points = points.iloc[2:,:].sort_values(by='x1').reset_index().iloc[:,1:]\n",
    "    points = points[points.index % 2 == 0]\n",
    "    x_coordinates = points.x1.values\n",
    "    full_parking_lots = []\n",
    "    \n",
    "    for i in range(len(x_coordinates)):\n",
    "        for car in car_locations:\n",
    "            if x_coordinates[i] <  car[0] and x_coordinates[i+1] > car[0]:\n",
    "                full_parking_lots.append(i+1)\n",
    "                \n",
    "    return full_parking_lots"
   ]
  },
  {
   "cell_type": "code",
   "execution_count": 3,
   "id": "accredited-theory",
   "metadata": {},
   "outputs": [],
   "source": [
    "def get_area(w,h):\n",
    "    return w*h if w*h >500 else -1"
   ]
  },
  {
   "cell_type": "code",
   "execution_count": 5,
   "id": "regulated-messenger",
   "metadata": {
    "scrolled": false
   },
   "outputs": [
    {
     "name": "stdout",
     "output_type": "stream",
     "text": [
      "FULL PARKING LOTS:\n",
      "{1, 2}\n",
      "\n",
      "EMPTY PARKING LOTS:\n",
      "{3, 4, 5}\n"
     ]
    }
   ],
   "source": [
    "ALL_PARKING_LOTS = [1,2,3,4,5]\n",
    "\n",
    "car_classifier = cv2.CascadeClassifier('haarcascade/haarcascade_car.xml')\n",
    "\n",
    "image = cv2.imread('data/parking_lot_new.jpg')\n",
    "cv2.imshow(\"Original\", image)\n",
    "cv2.waitKey(0)\n",
    "\n",
    "# Grayscale and Canny Edges extracted\n",
    "gray = cv2.cvtColor(image, cv2.COLOR_BGR2GRAY)\n",
    "edges = cv2.Canny(gray, 70, 200, apertureSize = 3)\n",
    "\n",
    "cars = car_classifier.detectMultiScale(image, 1.11,0)\n",
    "\n",
    "cv2.imshow(\"edges\", edges)\n",
    "cv2.waitKey(0)\n",
    "\n",
    "# Run HoughLines using a rho accuracy of 1 pixel\n",
    "# theta accuracy of np.pi / 180 which is 1 degree\n",
    "# Our line threshold is set to 240 (number of points on line)\n",
    "lines = cv2.HoughLines(edges, 1, np.pi/90, 200)\n",
    "\n",
    "points = np.array([])\n",
    "car_locations = np.array([])\n",
    "\n",
    "# We iterate through each line and convert it to the format\n",
    "# required by cv.lines (i.e. requiring end points)\n",
    "for line in lines:\n",
    "    rho, theta = line[0]\n",
    "    a = np.cos(theta)\n",
    "    b = np.sin(theta)\n",
    "    x0 = a * rho\n",
    "    y0 = b * rho\n",
    "    x1 = int(x0 + 1000 * (-b))\n",
    "    y1 = int(y0 + 1000 * (a))\n",
    "    x2 = int(x0 - 1000 * (-b))\n",
    "    y2 = int(y0 - 1000 * (a))\n",
    "    points = np.append(points,[x1,x2,y1,y2]).reshape(-1,4)\n",
    "\n",
    "points_df =pd.DataFrame(points, columns = ['x1','x2','y1','y2'])\n",
    "points_df.sort_values(by='x1', inplace=True)\n",
    "\n",
    "for (x,y,w,h) in cars:\n",
    "    if(get_area(w,h)) != -1:\n",
    "#         cv2.rectangle(image, (x, y), (x+w, y+h), (0, 255, 255), 2)\n",
    "        cv2.putText(image, org = (x+40,y+50), text = \"Full\", fontFace = cv2.FONT_HERSHEY_SIMPLEX,\n",
    "               fontScale = 1.0, color = (0,255,255), thickness = 2)\n",
    "        car_locations = np.append(car_locations,[(x+x+w)/2, (y+y+h)/2]).reshape(-1,2)\n",
    "\n",
    "\n",
    "for p in range(0,len(points_df),2):\n",
    "    x1,x2,y1,y2 = points_df.iloc[p,:].values\n",
    "    cv2.line(image, (int(x1), int(y1)), (int(x2), int(y2)), (255, 0, 0), 2)\n",
    "    if p != 0 :\n",
    "        cv2.putText(image, org = (int((x1+x2) / 2 + 65), int(image.shape[0] / 2)), text = str(int(p/2)), fontFace = cv2.FONT_HERSHEY_SIMPLEX,\n",
    "               fontScale = 1.0, color = (0,0,255), thickness = 2)\n",
    "        \n",
    "print(\"FULL PARKING LOTS:\")\n",
    "full_parking_lots = get_full_parking_lots(points_df,car_locations)\n",
    "print(set(full_parking_lots))\n",
    "print()\n",
    "print(\"EMPTY PARKING LOTS:\")\n",
    "print(set(ALL_PARKING_LOTS) - set(full_parking_lots))\n",
    "        \n",
    "cv2.imshow('Final', image)\n",
    "cv2.waitKey(0)\n",
    "cv2.destroyAllWindows()"
   ]
  },
  {
   "cell_type": "code",
   "execution_count": null,
   "id": "careful-formation",
   "metadata": {},
   "outputs": [],
   "source": []
  }
 ],
 "metadata": {
  "kernelspec": {
   "display_name": "Python 3",
   "language": "python",
   "name": "python3"
  },
  "language_info": {
   "codemirror_mode": {
    "name": "ipython",
    "version": 3
   },
   "file_extension": ".py",
   "mimetype": "text/x-python",
   "name": "python",
   "nbconvert_exporter": "python",
   "pygments_lexer": "ipython3",
   "version": "3.8.8"
  }
 },
 "nbformat": 4,
 "nbformat_minor": 5
}
